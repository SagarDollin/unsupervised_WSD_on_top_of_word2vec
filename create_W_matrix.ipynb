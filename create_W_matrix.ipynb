{
 "cells": [
  {
   "cell_type": "markdown",
   "metadata": {},
   "source": [
    "## Create the W matrix \n",
    "In this section we are creating the W matrix using brown corpus, and save it in tha same directory\n",
    "this matrix is important to define the relevance of two co-occuring words. The higher the weight the more relevant those two words are for each other as context."
   ]
  },
  {
   "cell_type": "code",
   "execution_count": 6,
   "metadata": {},
   "outputs": [],
   "source": [
    "import numpy as np\n",
    "import nltk\n",
    "from model_utilities import remove_stopword,create_V,create_W2,Normalise_W\n",
    "\n"
   ]
  },
  {
   "cell_type": "markdown",
   "metadata": {},
   "source": [
    "importing brown corpus as list of sentences(lists of words)"
   ]
  },
  {
   "cell_type": "code",
   "execution_count": 2,
   "metadata": {},
   "outputs": [],
   "source": [
    "brown1 = nltk.corpus.brown.sents()"
   ]
  },
  {
   "cell_type": "markdown",
   "metadata": {},
   "source": [
    "Remove stopwords from brown"
   ]
  },
  {
   "cell_type": "code",
   "execution_count": 3,
   "metadata": {},
   "outputs": [],
   "source": [
    "\n",
    "stopwordfree_brown = []\n",
    "for sentence in brown1:\n",
    "    stopword_free = remove_stopword(sentence)\n",
    "    stopwordfree_brown.append(stopword_free)\n",
    "    "
   ]
  },
  {
   "cell_type": "code",
   "execution_count": 27,
   "metadata": {},
   "outputs": [],
   "source": [
    "\n",
    "                \n",
    "    \n",
    "    \n",
    "\n",
    "\n",
    "    \n",
    "    \n",
    "\n",
    "                    \n",
    "        \n",
    "    \n",
    "    \n",
    "\n",
    "    \n",
    "\n",
    "            \n",
    "def Normalise_W(W,V,track):\n",
    "    '''This matrix takes the inputs W matrix,V(output of create_V()), and  normalizes the W matrix by dividing the \n",
    "    co-occurence count value of each cell in the matrix by product of their corresponding words' frequency from the V \n",
    "    dictionary's values '''\n",
    "    V_list = list(V.keys())\n",
    "    Vcount = list(V.values())\n",
    "    print(\"Total length=\",len(track))\n",
    "    count=0\n",
    "    print(\"--------Normalising-------------\")            \n",
    "    for row,columns in track.items():\n",
    "        i = row\n",
    "        count+=1\n",
    "        for j in columns:\n",
    "        \n",
    "           \n",
    "            freq_i = Vcount[i]\n",
    "            freq_j = Vcount[j]\n",
    "            W[i][j] = W[i][j]/(freq_i*freq_j)\n",
    "        \n",
    "                \n",
    "    return W\n",
    "\n"
   ]
  },
  {
   "cell_type": "markdown",
   "metadata": {},
   "source": [
    "### Create V (Vocaulary)\n",
    "We create V from the brown corpus, which is a dictionary cosisting words as keys and their frequencies as values. "
   ]
  },
  {
   "cell_type": "code",
   "execution_count": 4,
   "metadata": {},
   "outputs": [],
   "source": [
    "V=create_V(stopwordfree_brown)\n",
    "\n"
   ]
  },
  {
   "cell_type": "markdown",
   "metadata": {},
   "source": [
    " ### Create W\n",
    " Creating W next which is not normalised"
   ]
  },
  {
   "cell_type": "code",
   "execution_count": 5,
   "metadata": {
    "scrolled": true
   },
   "outputs": [],
   "source": [
    "W,track= create_W2(stopwordfree_brown,V)\n"
   ]
  },
  {
   "cell_type": "markdown",
   "metadata": {},
   "source": [
    "normalising the created co-occurence matrix"
   ]
  },
  {
   "cell_type": "code",
   "execution_count": 7,
   "metadata": {},
   "outputs": [
    {
     "name": "stdout",
     "output_type": "stream",
     "text": [
      "Total length= 55694\n",
      "--------Normalising-------------\n"
     ]
    }
   ],
   "source": [
    "W_norm = Normalise_W(W,V,track)"
   ]
  },
  {
   "cell_type": "markdown",
   "metadata": {},
   "source": [
    "Finally save it in the same directory"
   ]
  },
  {
   "cell_type": "code",
   "execution_count": 34,
   "metadata": {},
   "outputs": [
    {
     "data": {
      "text/plain": [
       "<function BufferedWriter.close>"
      ]
     },
     "execution_count": 34,
     "metadata": {},
     "output_type": "execute_result"
    }
   ],
   "source": [
    "fileW = open(\"W_norm_final\", \"wb\")\n",
    "# save array to the file\n",
    "np.save(fileW, W_norm)\n",
    "# close the file\n",
    "fileW.close"
   ]
  },
  {
   "cell_type": "code",
   "execution_count": 11,
   "metadata": {},
   "outputs": [],
   "source": [
    "#Loading saved W_norm matrix\n",
    "fileW = open(\"W_norm\",\"rb\")\n",
    "W_norm_array = np.load(fileW)\n",
    "fileW.close()\n",
    "\n",
    "\n"
   ]
  },
  {
   "cell_type": "code",
   "execution_count": null,
   "metadata": {},
   "outputs": [],
   "source": []
  }
 ],
 "metadata": {
  "kernelspec": {
   "display_name": "Python 3",
   "language": "python",
   "name": "python3"
  },
  "language_info": {
   "codemirror_mode": {
    "name": "ipython",
    "version": 3
   },
   "file_extension": ".py",
   "mimetype": "text/x-python",
   "name": "python",
   "nbconvert_exporter": "python",
   "pygments_lexer": "ipython3",
   "version": "3.8.5"
  }
 },
 "nbformat": 4,
 "nbformat_minor": 4
}
